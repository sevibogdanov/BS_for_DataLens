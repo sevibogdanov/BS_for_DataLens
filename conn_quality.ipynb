{
 "cells": [
  {
   "cell_type": "code",
   "execution_count": 62,
   "metadata": {},
   "outputs": [
    {
     "name": "stdout",
     "output_type": "stream",
     "text": [
      "Всего 7621 строк в датасете\n",
      "0-499; 500-999; 1000-1499; 1500-1999; 2000-2499; 2500-2999; 3000-3499; 3500-3999; 4000-4499; 4500-4999; 5000-5499; 5500-5999; 6000-6499; 6500-6999; 7000-7499; 7500-7999; "
     ]
    }
   ],
   "source": [
    "import requests\n",
    "import pandas as pd\n",
    "from my_api import api_key\n",
    "\n",
    "# https://data.mos.ru/ источник данных\n",
    "\n",
    "#Получаем общее кол-во строк в наборе данных\n",
    "total = requests.get(f'https://apidata.mos.ru/v1/datasets/61681/count?api_key={api_key}').json()\n",
    "\n",
    "# Создаем пустой список, который будем наполнять запросами по 500 строк (500 - ограничение апи)\n",
    "data_for_df = []\n",
    "print(f'Всего {total} строк в датасете')\n",
    "\n",
    "#циклом по 500 строк забираем весь датасет\n",
    "i = 0\n",
    "while i < total:\n",
    "    url=f'https://apidata.mos.ru/v1/datasets/61681/rows?api_key={api_key}&$top=500&$skip={str(i)}'\n",
    "    response = requests.get(url).json()\n",
    "    data_for_df += response\n",
    "    print(f'{i}-{i+499}', end='; ')\n",
    "    i += 500\n",
    "\n",
    "# загружаем датасет в пандас\n",
    "df = pd.json_normalize(data_for_df)"
   ]
  },
  {
   "cell_type": "code",
   "execution_count": 73,
   "metadata": {},
   "outputs": [],
   "source": [
    "# убираю лишнее из названия колонок\n",
    "for column in df.columns:\n",
    "    df.rename(columns={column:column.replace('Cells.','')},inplace=True)\n",
    "# разбиваю список информации о станции на две колнки\n",
    "df['base_station_id'] = df['StationInfo'].apply(lambda x: x[0]['BaseStation'] if len(x)>0 else 'not defined')\n",
    "df['operator'] = df['StationInfo'].apply(lambda x: x[0]['Operator'] if len(x)>0 else 'not defined')\n",
    "\n",
    "# удаляю лишнее\n",
    "del(df['StationInfo'])\n",
    "del(df['geoData.coordinates'])\n",
    "del(df['geoData.type'])\n"
   ]
  },
  {
   "cell_type": "code",
   "execution_count": 77,
   "metadata": {},
   "outputs": [
    {
     "data": {
      "text/html": [
       "<div>\n",
       "<style scoped>\n",
       "    .dataframe tbody tr th:only-of-type {\n",
       "        vertical-align: middle;\n",
       "    }\n",
       "\n",
       "    .dataframe tbody tr th {\n",
       "        vertical-align: top;\n",
       "    }\n",
       "\n",
       "    .dataframe thead th {\n",
       "        text-align: right;\n",
       "    }\n",
       "</style>\n",
       "<table border=\"1\" class=\"dataframe\">\n",
       "  <thead>\n",
       "    <tr style=\"text-align: right;\">\n",
       "      <th></th>\n",
       "      <th>operator</th>\n",
       "      <th>Number</th>\n",
       "    </tr>\n",
       "  </thead>\n",
       "  <tbody>\n",
       "    <tr>\n",
       "      <th>2</th>\n",
       "      <td>ООО «Т2 Мобайл»</td>\n",
       "      <td>2188</td>\n",
       "    </tr>\n",
       "    <tr>\n",
       "      <th>3</th>\n",
       "      <td>ПАО «ВымпелКом»</td>\n",
       "      <td>2089</td>\n",
       "    </tr>\n",
       "    <tr>\n",
       "      <th>5</th>\n",
       "      <td>ПАО «Мобильные ТелеСистемы»</td>\n",
       "      <td>1909</td>\n",
       "    </tr>\n",
       "    <tr>\n",
       "      <th>4</th>\n",
       "      <td>ПАО «МегаФон»</td>\n",
       "      <td>1013</td>\n",
       "    </tr>\n",
       "    <tr>\n",
       "      <th>1</th>\n",
       "      <td>ООО «Антарес»</td>\n",
       "      <td>366</td>\n",
       "    </tr>\n",
       "    <tr>\n",
       "      <th>0</th>\n",
       "      <td>0</td>\n",
       "      <td>55</td>\n",
       "    </tr>\n",
       "    <tr>\n",
       "      <th>6</th>\n",
       "      <td>Юнисел</td>\n",
       "      <td>1</td>\n",
       "    </tr>\n",
       "  </tbody>\n",
       "</table>\n",
       "</div>"
      ],
      "text/plain": [
       "                      operator  Number\n",
       "2              ООО «Т2 Мобайл»    2188\n",
       "3              ПАО «ВымпелКом»    2089\n",
       "5  ПАО «Мобильные ТелеСистемы»    1909\n",
       "4                ПАО «МегаФон»    1013\n",
       "1                ООО «Антарес»     366\n",
       "0                            0      55\n",
       "6                       Юнисел       1"
      ]
     },
     "execution_count": 77,
     "metadata": {},
     "output_type": "execute_result"
    }
   ],
   "source": [
    "# смотрю кол-во станций\n",
    "df[['operator','Number']].groupby('operator',as_index=False).count().sort_values('Number',ascending=False)"
   ]
  },
  {
   "cell_type": "code",
   "execution_count": 74,
   "metadata": {},
   "outputs": [],
   "source": [
    "df.to_csv('base_stations.csv')"
   ]
  },
  {
   "cell_type": "code",
   "execution_count": null,
   "metadata": {},
   "outputs": [],
   "source": []
  }
 ],
 "metadata": {
  "kernelspec": {
   "display_name": "Python 3",
   "language": "python",
   "name": "python3"
  },
  "language_info": {
   "codemirror_mode": {
    "name": "ipython",
    "version": 3
   },
   "file_extension": ".py",
   "mimetype": "text/x-python",
   "name": "python",
   "nbconvert_exporter": "python",
   "pygments_lexer": "ipython3",
   "version": "3.10.5"
  },
  "orig_nbformat": 4
 },
 "nbformat": 4,
 "nbformat_minor": 2
}
